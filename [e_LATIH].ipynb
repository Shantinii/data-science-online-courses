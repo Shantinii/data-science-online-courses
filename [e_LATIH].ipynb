{
  "nbformat": 4,
  "nbformat_minor": 0,
  "metadata": {
    "colab": {
      "provenance": [],
      "authorship_tag": "ABX9TyM6UT4KlmXMG0RUT71J0syn",
      "include_colab_link": true
    },
    "kernelspec": {
      "name": "python3",
      "display_name": "Python 3"
    },
    "language_info": {
      "name": "python"
    }
  },
  "cells": [
    {
      "cell_type": "markdown",
      "metadata": {
        "id": "view-in-github",
        "colab_type": "text"
      },
      "source": [
        "<a href=\"https://colab.research.google.com/github/Shantinii/data-science-online-courses/blob/main/%5Be_LATIH%5D.ipynb\" target=\"_parent\"><img src=\"https://colab.research.google.com/assets/colab-badge.svg\" alt=\"Open In Colab\"/></a>"
      ]
    },
    {
      "cell_type": "code",
      "execution_count": 3,
      "metadata": {
        "colab": {
          "base_uri": "https://localhost:8080/"
        },
        "id": "FHg_RzKFjZV7",
        "outputId": "32e8aea9-4563-460f-ee07-2dc9c9e58a2e"
      },
      "outputs": [
        {
          "output_type": "stream",
          "name": "stdout",
          "text": [
            "Hello\n"
          ]
        }
      ],
      "source": [
        "print(\"Hello\")\n"
      ]
    },
    {
      "cell_type": "code",
      "source": [
        "from openpyxl import Workbook\n",
        "wb = Workbook()\n",
        "destination_filename = 'New_Workbook.xlsx'\n",
        "ws = wb.active\n",
        "ws.title='New Active Workbook'\n",
        "\n",
        "\n"
      ],
      "metadata": {
        "id": "m689NJ2AjtIk"
      },
      "execution_count": null,
      "outputs": []
    }
  ]
}